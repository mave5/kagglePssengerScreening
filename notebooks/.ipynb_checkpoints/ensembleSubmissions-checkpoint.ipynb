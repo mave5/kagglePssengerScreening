{
 "cells": [
  {
   "cell_type": "code",
   "execution_count": null,
   "metadata": {
    "collapsed": false
   },
   "outputs": [],
   "source": [
    "import pandas as pd\n",
    "import glob\n",
    "import os\n",
    "import datetime\n",
    "from tabulate import tabulate"
   ]
  },
  {
   "cell_type": "markdown",
   "metadata": {},
   "source": [
    "## list of individual csv output of  models"
   ]
  },
  {
   "cell_type": "code",
   "execution_count": null,
   "metadata": {
    "collapsed": false
   },
   "outputs": [],
   "source": [
    " path2submissions='./output/submissions/'\n",
    "\n",
    "# sort by time\n",
    "submissionList = filter(os.path.isfile, glob.glob(path2submissions + \"*.csv\"))\n",
    "submissionList.sort(key=lambda x: os.path.getmtime(x))\n",
    "\n",
    "for i,sub in enumerate(submissionList):\n",
    "    print ('%s- %s \\n' %(i,os.path.basename(sub)))\n",
    "    print('-'*60)\n",
    "    \n"
   ]
  },
  {
   "cell_type": "markdown",
   "metadata": {},
   "source": [
    "## Ensemple Outputs"
   ]
  },
  {
   "cell_type": "code",
   "execution_count": null,
   "metadata": {
    "collapsed": false
   },
   "outputs": [],
   "source": [
    "ensembleList=[0,1,2,3,4,5,6,7,8,9,10] # solution2\n",
    "\n",
    "ensemblePred=0\n",
    "testValue=0\n",
    "for el in ensembleList:   \n",
    "    print (submissionList[el][21:])\n",
    "    submission=pd.read_csv(submissionList[el])\n",
    "    testValue+=submission['Probability'].values[0]\n",
    "    ensemblePred+= submission['Probability'].values\n",
    "    pid = submission ['Id'].values\n",
    "ensemblePred = ensemblePred/len(ensembleList)\n",
    "print ('test value: %.6f' %(testValue/len(ensembleList)))    \n",
    "    \n",
    "# make submission\n",
    "now = datetime.datetime.now()\n",
    "info='ensemble'+str(len(ensembleList))\n",
    "suffix = info + '_' + str(now.strftime(\"%Y-%m-%d-%H-%M\"))\n",
    "path2submission = os.path.join('./output/submissions', 'submission_' + suffix + '.csv')\n",
    "print (path2submission[21:])\n",
    "\n",
    "#submission = pd.DataFrame(pred, columns=['Probability'])\n",
    "submission['Id'] = pid\n",
    "submission['Probability'] = ensemblePred\n",
    "submission.to_csv(path2submission, index=False)\n",
    "submission.head()\n",
    "    "
   ]
  }
 ],
 "metadata": {
  "kernelspec": {
   "display_name": "Python 2",
   "language": "python",
   "name": "python2"
  },
  "language_info": {
   "codemirror_mode": {
    "name": "ipython",
    "version": 2
   },
   "file_extension": ".py",
   "mimetype": "text/x-python",
   "name": "python",
   "nbconvert_exporter": "python",
   "pygments_lexer": "ipython2",
   "version": "2.7.13"
  }
 },
 "nbformat": 4,
 "nbformat_minor": 0
}
